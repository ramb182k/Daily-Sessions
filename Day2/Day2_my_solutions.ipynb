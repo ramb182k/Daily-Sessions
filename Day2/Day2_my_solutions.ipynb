{
 "cells": [
  {
   "cell_type": "markdown",
   "metadata": {},
   "source": [
    "### Task 1"
   ]
  },
  {
   "cell_type": "markdown",
   "metadata": {},
   "source": [
    "***Write a program to print a fibonacci triangle.*** - Given a number n (i.e) number of lines the program must output a Fibonacci triangle."
   ]
  },
  {
   "cell_type": "code",
   "execution_count": 12,
   "metadata": {},
   "outputs": [
    {
     "name": "stdout",
     "output_type": "stream",
     "text": [
      "Input:5\n",
      "\n",
      "Output:\n",
      "\n",
      "\n",
      "1 \n",
      "\n",
      "1 2 \n",
      "\n",
      "3 5 8 \n",
      "\n",
      "13 21 34 55 \n",
      "\n",
      "89 144 233 377 610 \n",
      "\n"
     ]
    }
   ],
   "source": [
    "n=int(input(\"Input:\"))\n",
    "a=0\n",
    "b=1\n",
    "count=1\n",
    "print(\"\\nOutput:\")\n",
    "for i in range(n+1):\n",
    "    for m in range(i):\n",
    "        print(b,end=' ')\n",
    "        c=b\n",
    "        b=b+a\n",
    "        a=c\n",
    "    print('\\n')"
   ]
  },
  {
   "cell_type": "markdown",
   "metadata": {},
   "source": [
    "### Task 2"
   ]
  },
  {
   "cell_type": "markdown",
   "metadata": {},
   "source": [
    "***Write a program to find all possible permutations of a given list.***"
   ]
  },
  {
   "cell_type": "code",
   "execution_count": 24,
   "metadata": {},
   "outputs": [],
   "source": [
    "def Permutation(lst):\n",
    "    if len(lst)==2:\n",
    "        return [[lst[0],lst[1]],[lst[1],lst[0]]]\n",
    "    elif len(lst)>2:\n",
    "        fin_list=[]\n",
    "        for i in range(len(lst)):\n",
    "            end_val= Permutation(lst[:i]+lst[i+1:])\n",
    "            [a.append(lst[i]) for a in end_val]\n",
    "            for subl in end_val:\n",
    "                fin_list.append(subl)\n",
    "        return fin_list\n",
    "    else:\n",
    "        return lst\n",
    "    "
   ]
  },
  {
   "cell_type": "code",
   "execution_count": 25,
   "metadata": {},
   "outputs": [
    {
     "data": {
      "text/plain": [
       "[[2, 3, 1], [3, 2, 1], [1, 3, 2], [3, 1, 2], [1, 2, 3], [2, 1, 3]]"
      ]
     },
     "execution_count": 25,
     "metadata": {},
     "output_type": "execute_result"
    }
   ],
   "source": [
    "Permutation([1,2,3])"
   ]
  },
  {
   "cell_type": "code",
   "execution_count": null,
   "metadata": {},
   "outputs": [],
   "source": []
  }
 ],
 "metadata": {
  "kernelspec": {
   "display_name": "Python 3",
   "language": "python",
   "name": "python3"
  },
  "language_info": {
   "codemirror_mode": {
    "name": "ipython",
    "version": 3
   },
   "file_extension": ".py",
   "mimetype": "text/x-python",
   "name": "python",
   "nbconvert_exporter": "python",
   "pygments_lexer": "ipython3",
   "version": "3.7.4"
  }
 },
 "nbformat": 4,
 "nbformat_minor": 2
}
