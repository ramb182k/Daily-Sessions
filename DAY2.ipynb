{
 "cells": [
  {
   "cell_type": "markdown",
   "metadata": {},
   "source": [
    "## Task 1"
   ]
  },
  {
   "cell_type": "code",
   "execution_count": 26,
   "metadata": {},
   "outputs": [
    {
     "name": "stdout",
     "output_type": "stream",
     "text": [
      "Enter a number: 1\n",
      "n= 1\n",
      "1 \n",
      "\n"
     ]
    }
   ],
   "source": [
    "#input\n",
    "n=int(input(\"Enter a number: \"))\n",
    "print(\"n=\",n)\n",
    "a=1\n",
    "b=1\n",
    "print(a,\"\\n\"),\n",
    "for i in range(n-1):\n",
    "    for j in range(i+2):\n",
    "        print(b,end=' ')\n",
    "        c=b\n",
    "        b=a+b\n",
    "        a=c\n",
    "    print(\"\\n\")\n",
    "\n"
   ]
  },
  {
   "cell_type": "markdown",
   "metadata": {},
   "source": [
    "## Task 2\n",
    "    "
   ]
  },
  {
   "cell_type": "code",
   "execution_count": 37,
   "metadata": {},
   "outputs": [],
   "source": [
    "def Permutate(array):\n",
    "    \"\"\"\n",
    "    Returns a list of all permutations of given array as lists.\n",
    "    \"\"\"\n",
    "    if len(array) == 2:\n",
    "        return [[array[0], array[1]], [array[1], array[0]]]\n",
    "    \n",
    "    elif len(array) > 2:\n",
    "        all_lists = []    # List to hold all permutations of a branch\n",
    "        ret_list = []     # List to hold unique permutations of this branch\n",
    "        for i in range(len(array)):\n",
    "            retval = Permutate(array[:i] + array[i+1:])\n",
    "            [a.append(array[i]) for a in retval]\n",
    "            for sub_list in retval:\n",
    "                all_lists.append(sub_list)\n",
    "        \n",
    "        # Changes to remove duplicates\n",
    "        for l in all_lists:\n",
    "            if l not in ret_list:\n",
    "                ret_list.append(l)\n",
    "        return ret_list\n",
    "    \n",
    "    # In the case where the list has 1 or zero elements\n",
    "    else:\n",
    "        return array"
   ]
  },
  {
   "cell_type": "code",
   "execution_count": 43,
   "metadata": {},
   "outputs": [
    {
     "data": {
      "text/plain": [
       "[[2, 2, 1], [1, 2, 2], [2, 1, 2]]"
      ]
     },
     "execution_count": 43,
     "metadata": {},
     "output_type": "execute_result"
    }
   ],
   "source": [
    "Permutate([1,2,2])"
   ]
  },
  {
   "cell_type": "code",
   "execution_count": 42,
   "metadata": {},
   "outputs": [
    {
     "name": "stdout",
     "output_type": "stream",
     "text": [
      "[1, 3]\n"
     ]
    }
   ],
   "source": [
    "ARRAY=[1,2,3]\n",
    "print(ARRAY[:1]+ARRAY[2:])"
   ]
  },
  {
   "cell_type": "code",
   "execution_count": null,
   "metadata": {},
   "outputs": [],
   "source": []
  }
 ],
 "metadata": {
  "kernelspec": {
   "display_name": "Python 3",
   "language": "python",
   "name": "python3"
  },
  "language_info": {
   "codemirror_mode": {
    "name": "ipython",
    "version": 3
   },
   "file_extension": ".py",
   "mimetype": "text/x-python",
   "name": "python",
   "nbconvert_exporter": "python",
   "pygments_lexer": "ipython3",
   "version": "3.7.4"
  }
 },
 "nbformat": 4,
 "nbformat_minor": 2
}
